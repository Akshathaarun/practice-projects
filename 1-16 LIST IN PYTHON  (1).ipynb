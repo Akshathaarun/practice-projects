{
 "cells": [
  {
   "cell_type": "markdown",
   "metadata": {
    "id": "UzVZ4ZXGhN8n"
   },
   "source": [
    "# 16: LIST IN PYTHON\n",
    "Python has four basic inbuilt data structures namely Lists, Dictionary, Tuple and Set. These almost cover 80% of the our real world data structures. "
   ]
  },
  {
   "cell_type": "code",
   "execution_count": null,
   "metadata": {
    "id": "l-owrqklhN8s"
   },
   "outputs": [],
   "source": [
    "Roll_No=45\n",
    "name=\"John\"\n",
    "WEIGHT=65.8"
   ]
  },
  {
   "cell_type": "code",
   "execution_count": null,
   "metadata": {
    "colab": {
     "base_uri": "https://localhost:8080/"
    },
    "executionInfo": {
     "elapsed": 393,
     "status": "ok",
     "timestamp": 1650819729911,
     "user": {
      "displayName": "Anitha v m",
      "userId": "06705357179175239096"
     },
     "user_tz": -330
    },
    "id": "vTSelmhahN8u",
    "outputId": "6137f137-c039-4da4-f25a-6f430de2571f"
   },
   "outputs": [
    {
     "data": {
      "text/plain": [
       "list"
      ]
     },
     "execution_count": 2,
     "metadata": {},
     "output_type": "execute_result"
    }
   ],
   "source": [
    "#Creating a List\n",
    "num=[]\n",
    "type(num)"
   ]
  },
  {
   "cell_type": "code",
   "execution_count": null,
   "metadata": {
    "colab": {
     "base_uri": "https://localhost:8080/",
     "height": 35
    },
    "executionInfo": {
     "elapsed": 334,
     "status": "ok",
     "timestamp": 1650819829960,
     "user": {
      "displayName": "Anitha v m",
      "userId": "06705357179175239096"
     },
     "user_tz": -330
    },
    "id": "-n45uT8dhN8w",
    "outputId": "4b1438bf-f20e-4a2d-a819-3578e8641f12"
   },
   "outputs": [
    {
     "data": {
      "application/vnd.google.colaboratory.intrinsic+json": {
       "type": "string"
      },
      "text/plain": [
       "'Azan'"
      ]
     },
     "execution_count": 3,
     "metadata": {},
     "output_type": "execute_result"
    }
   ],
   "source": [
    "students=['Amal','Akshay','Azan','Lilly','Jack','Jerry']\n",
    "students[2]"
   ]
  },
  {
   "cell_type": "code",
   "execution_count": null,
   "metadata": {
    "id": "TuOPX2m0hN8x",
    "outputId": "2e9dfd5e-036e-4f91-c202-f14c681f4099"
   },
   "outputs": [
    {
     "data": {
      "text/plain": [
       "'Lilly'"
      ]
     },
     "execution_count": 41,
     "metadata": {},
     "output_type": "execute_result"
    }
   ],
   "source": [
    "students[3]"
   ]
  },
  {
   "cell_type": "code",
   "execution_count": null,
   "metadata": {
    "id": "We9qf-9bhN8y",
    "outputId": "8c9e1187-5060-467e-e8c1-e2d809f7ed3a"
   },
   "outputs": [
    {
     "data": {
      "text/plain": [
       "['Amal', 'Akshay', 'Azan']"
      ]
     },
     "execution_count": 42,
     "metadata": {},
     "output_type": "execute_result"
    }
   ],
   "source": [
    "students[:3]"
   ]
  },
  {
   "cell_type": "code",
   "execution_count": null,
   "metadata": {
    "id": "FXiLbUdWhN8y"
   },
   "outputs": [],
   "source": [
    "students[5]='Jill'"
   ]
  },
  {
   "cell_type": "code",
   "execution_count": null,
   "metadata": {
    "id": "E4qg4t0BhN8z",
    "outputId": "6ff29b6b-6e2b-4c85-a0df-909a83c6946f"
   },
   "outputs": [
    {
     "data": {
      "text/plain": [
       "['Amal', 'Akshay', 'Azan', 'Lilly', 'Jack', 'Jill']"
      ]
     },
     "execution_count": 45,
     "metadata": {},
     "output_type": "execute_result"
    }
   ],
   "source": [
    "students"
   ]
  },
  {
   "cell_type": "code",
   "execution_count": null,
   "metadata": {
    "id": "yeVvud4rhN80"
   },
   "outputs": [],
   "source": [
    "students.append(\"Raju\")"
   ]
  },
  {
   "cell_type": "code",
   "execution_count": null,
   "metadata": {
    "colab": {
     "base_uri": "https://localhost:8080/"
    },
    "executionInfo": {
     "elapsed": 324,
     "status": "ok",
     "timestamp": 1650820097824,
     "user": {
      "displayName": "Anitha v m",
      "userId": "06705357179175239096"
     },
     "user_tz": -330
    },
    "id": "JjpVqUUxhN81",
    "outputId": "551b5821-7a84-466b-d775-39f65986a832"
   },
   "outputs": [
    {
     "data": {
      "text/plain": [
       "['Amal',\n",
       " 'Akshay',\n",
       " 'Azan',\n",
       " 'Lilly',\n",
       " 'Jack',\n",
       " 'Jerry',\n",
       " 'Anitha',\n",
       " 'Anitha',\n",
       " 'Anitha']"
      ]
     },
     "execution_count": 8,
     "metadata": {},
     "output_type": "execute_result"
    }
   ],
   "source": [
    "students.append(\"Anitha\")\n",
    "students"
   ]
  },
  {
   "cell_type": "code",
   "execution_count": null,
   "metadata": {
    "id": "w8WY8jPZhN82",
    "outputId": "091be4c1-8961-41d2-8c92-554282a8a6db"
   },
   "outputs": [
    {
     "data": {
      "text/plain": [
       "float"
      ]
     },
     "execution_count": 49,
     "metadata": {},
     "output_type": "execute_result"
    }
   ],
   "source": [
    "mark=[45,43.23,'nine']\n",
    "type(mark[1])"
   ]
  },
  {
   "cell_type": "code",
   "execution_count": null,
   "metadata": {
    "id": "nYakw5zShN83",
    "outputId": "7b60052a-a1bb-492f-e63d-bb8dff5469f6"
   },
   "outputs": [
    {
     "data": {
      "text/plain": [
       "'banana'"
      ]
     },
     "execution_count": 53,
     "metadata": {},
     "output_type": "execute_result"
    }
   ],
   "source": [
    "x=['apple','banana']\n",
    "y=['orange','lemon']\n",
    "z=[x,y]\n",
    "z[0][1]"
   ]
  },
  {
   "cell_type": "code",
   "execution_count": null,
   "metadata": {
    "colab": {
     "base_uri": "https://localhost:8080/"
    },
    "executionInfo": {
     "elapsed": 304,
     "status": "ok",
     "timestamp": 1650820195511,
     "user": {
      "displayName": "Anitha v m",
      "userId": "06705357179175239096"
     },
     "user_tz": -330
    },
    "id": "tCL-4O-0hN84",
    "outputId": "9ec4078f-8cba-4fb9-a498-bcea3e3217e1"
   },
   "outputs": [
    {
     "data": {
      "text/plain": [
       "['Akshay',\n",
       " 'Amal',\n",
       " 'Anitha',\n",
       " 'Anitha',\n",
       " 'Anitha',\n",
       " 'Azan',\n",
       " 'Jack',\n",
       " 'Jerry',\n",
       " 'Lilly']"
      ]
     },
     "execution_count": 9,
     "metadata": {},
     "output_type": "execute_result"
    }
   ],
   "source": [
    "students.sort()\n",
    "students"
   ]
  },
  {
   "cell_type": "code",
   "execution_count": null,
   "metadata": {
    "id": "H74gAh3ahN85",
    "outputId": "c20d8d2f-6d57-4a9f-da47-3e57a9a4ae8e"
   },
   "outputs": [
    {
     "data": {
      "text/plain": [
       "['Raju', 'Raju', 'Lilly', 'Jill', 'Jack', 'Azan', 'Amal', 'Akshay']"
      ]
     },
     "execution_count": 55,
     "metadata": {},
     "output_type": "execute_result"
    }
   ],
   "source": [
    "students.reverse()\n",
    "students"
   ]
  },
  {
   "cell_type": "code",
   "execution_count": 1,
   "metadata": {
    "id": "RQ1M1s2DhN86"
   },
   "outputs": [],
   "source": [
    "marks=[98,67,85,90,75,82,60]"
   ]
  },
  {
   "cell_type": "code",
   "execution_count": 2,
   "metadata": {
    "colab": {
     "base_uri": "https://localhost:8080/",
     "height": 200
    },
    "executionInfo": {
     "elapsed": 311,
     "status": "error",
     "timestamp": 1650820255540,
     "user": {
      "displayName": "Anitha v m",
      "userId": "06705357179175239096"
     },
     "user_tz": -330
    },
    "id": "o_2ZCsLahN86",
    "outputId": "67d63246-f628-490d-a923-2150dcf7e161"
   },
   "outputs": [
    {
     "data": {
      "text/plain": [
       "[98, 67, 85, 90, 75, 82, 60, '61']"
      ]
     },
     "execution_count": 2,
     "metadata": {},
     "output_type": "execute_result"
    }
   ],
   "source": [
    "#Append an item to list\n",
    "marks.append(\"61\")\n",
    "marks"
   ]
  },
  {
   "cell_type": "code",
   "execution_count": 3,
   "metadata": {
    "colab": {
     "background_save": true
    },
    "id": "3p1AA536hN87",
    "outputId": "c25d4673-94e4-460f-b0b8-1e992cfe2969"
   },
   "outputs": [
    {
     "data": {
      "text/plain": [
       "[67, 85, 90, 75, 82, 60, '61']"
      ]
     },
     "execution_count": 3,
     "metadata": {},
     "output_type": "execute_result"
    }
   ],
   "source": [
    "#Remove an item by value: remove()\n",
    "marks.remove(98)\n",
    "marks"
   ]
  },
  {
   "cell_type": "code",
   "execution_count": null,
   "metadata": {
    "id": "8gp535hqhN87",
    "outputId": "6053aa69-f507-4f01-976f-5c3bae416a47"
   },
   "outputs": [
    {
     "data": {
      "text/plain": [
       "[75, 82, 60, 61]"
      ]
     },
     "execution_count": 60,
     "metadata": {},
     "output_type": "execute_result"
    }
   ],
   "source": [
    "#Remove items by index or slice: del\n",
    "del(marks[0:2])\n",
    "marks"
   ]
  },
  {
   "cell_type": "code",
   "execution_count": null,
   "metadata": {
    "id": "kiDB-0LuhN88",
    "outputId": "74b78256-7912-48de-b5ca-575faefb3655"
   },
   "outputs": [
    {
     "data": {
      "text/plain": [
       "82"
      ]
     },
     "execution_count": 61,
     "metadata": {},
     "output_type": "execute_result"
    }
   ],
   "source": [
    "max(marks)"
   ]
  },
  {
   "cell_type": "code",
   "execution_count": null,
   "metadata": {
    "id": "06EeQkpihN88",
    "outputId": "b665d7c9-f3c3-4945-8416-93823aa0a82f"
   },
   "outputs": [
    {
     "data": {
      "text/plain": [
       "60"
      ]
     },
     "execution_count": 62,
     "metadata": {},
     "output_type": "execute_result"
    }
   ],
   "source": [
    "min(marks)"
   ]
  },
  {
   "cell_type": "markdown",
   "metadata": {
    "id": "foJxUNLfhN89"
   },
   "source": [
    "Link for Ref: \n",
    "    https://docs.python.org/3/tutorial/datastructures.html"
   ]
  }
 ],
 "metadata": {
  "colab": {
   "provenance": []
  },
  "kernelspec": {
   "display_name": "Python 3",
   "language": "python",
   "name": "python3"
  },
  "language_info": {
   "codemirror_mode": {
    "name": "ipython",
    "version": 3
   },
   "file_extension": ".py",
   "mimetype": "text/x-python",
   "name": "python",
   "nbconvert_exporter": "python",
   "pygments_lexer": "ipython3",
   "version": "3.8.8"
  }
 },
 "nbformat": 4,
 "nbformat_minor": 1
}
